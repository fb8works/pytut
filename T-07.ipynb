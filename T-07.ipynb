{
 "cells": [
  {
   "cell_type": "markdown",
   "id": "a3090b18-39a9-4eac-b4ee-d3ab5e7c7323",
   "metadata": {},
   "source": [
    "## 関数（組み込み関数）\n",
    "\n",
    "前回までに、整数型と文字列型という２つの型について学びました。型は概念的であり、文字や数字等の「性質」を定義したものであると言えるでしょう。型は性質を持った雛型と言い換える事ができます。クッキーの抜型のように型から、クッキーができるように沢山のクッキーを作ることができます。この１個のクッキーが「値」です。そしてこの「値」を「オブジェクト」と呼びます。\n",
    "\n",
    "オブジェクト（値）:\n",
    "```\n",
    "[型] + [内容/データ] = [オブジェクト]\n",
    "```\n",
    "\n",
    "そしてオブジェクトに対してはさまざまな操作を行う事が出来ます。例えば `+` や `-` のような演算子や `print` のような「関数」です。関数は特定の「機能」を持ったもので「実行」する事が出来ます。関数を実行する事を「呼び出す」と言います。\n",
    "\n",
    "関数:\n",
    "```\n",
    "[値] --> [操作] --> [値]（結果）\n",
    "```\n",
    "\n",
    "オブジェクトと関数は名詞と動詞のような関係です。名詞だけでも動詞だけでも文章らしい文章を作れないのと同じように\n",
    "プログラミング言語において、オブジェクトと関数が無ければまともなプログラムを書くことは出来ません。\n",
    "\n",
    "どんなプログラミング言語にも基本的な関数が予め用意されています。もし、これらの関数がなければ画面に結果を表示する事さえできないでしょう。電卓に例えるなら数字しか入力できない電卓のようなものです。\n",
    "\n",
    "さて、あなたは既に関数を使ったことがあります。 `print` 関数です。関数は値を受け取ることができて、返すことができます。関数の名前に続けてカッコをつけると呼び出す事ができます。また、渡したい値をカッコの中に入れる事で関数に値を「渡す」事ができます。\n",
    "\n",
    "下のセルを実行してみて下さい。"
   ]
  },
  {
   "cell_type": "code",
   "execution_count": null,
   "id": "20417745-0ca2-409a-aa1f-022d0d4040af",
   "metadata": {},
   "outputs": [],
   "source": [
    "print(\"hello\")"
   ]
  },
  {
   "cell_type": "markdown",
   "id": "14537f65-5f2a-4115-a1aa-7adaf48df867",
   "metadata": {},
   "source": [
    "気づいたかもしれませんが、この場合 `Out` が表示されません。現時点ではあまり気にしなくても問題ありませんが、少しだけ説明しておくと `print` 関数は評価されると必ず `None` （ナン）という「何も無い」を表す特別なデータを返します。`print` 関数の目的は画面に「出力」する事です。計算結果は特に何もないので `None` が返されます。結果 `None` は `Out` として出力されません。\n",
    "\n",
    "試しに None を評価してみましょう。何も出力されません。"
   ]
  },
  {
   "cell_type": "code",
   "execution_count": 6,
   "id": "ba92bfc9-3216-4477-a43f-9cde8b7b56a8",
   "metadata": {},
   "outputs": [],
   "source": [
    "None"
   ]
  },
  {
   "cell_type": "markdown",
   "id": "b9752315-f6eb-470f-af57-12151d588bc1",
   "metadata": {},
   "source": [
    "`print` 以外にも関数があります。 `len` 関数を試してみましょう。\n",
    "\n",
    "```\n",
    "len(\"hello\")\n",
    "```"
   ]
  },
  {
   "cell_type": "code",
   "execution_count": null,
   "id": "5d6d1614-67af-45af-862c-7731e5a8d5de",
   "metadata": {},
   "outputs": [],
   "source": []
  },
  {
   "cell_type": "markdown",
   "id": "99abbdb7-7d14-4928-8882-08a9da21f9f9",
   "metadata": {},
   "source": [
    "`5` が返ってきましたか？ `len` 関数は文字列を受け取って、その文字列等の長さを整数で返します。\n",
    "\"hello\" は 5 文字なので 5 が返ってきます。\n",
    "\n",
    "関数が値を戻す事を「返す」と表現します。その返ってきた値が `Out` に表示されます。"
   ]
  },
  {
   "cell_type": "markdown",
   "id": "32568126-b1c1-41f4-b8ef-de8693afeeb5",
   "metadata": {},
   "source": [
    "ちなみに `len` 関数に数値を渡すとエラーになります。\n",
    "\n",
    "```\n",
    "len(1)\n",
    "```"
   ]
  },
  {
   "cell_type": "code",
   "execution_count": 7,
   "id": "56cf90cc-332d-4f4e-8006-0c579d71267d",
   "metadata": {},
   "outputs": [
    {
     "ename": "TypeError",
     "evalue": "object of type 'int' has no len()",
     "output_type": "error",
     "traceback": [
      "\u001b[0;31m---------------------------------------------------------------------------\u001b[0m",
      "\u001b[0;31mTypeError\u001b[0m                                 Traceback (most recent call last)",
      "\u001b[0;32m/tmp/ipykernel_280132/2982808344.py\u001b[0m in \u001b[0;36m<module>\u001b[0;34m\u001b[0m\n\u001b[0;32m----> 1\u001b[0;31m \u001b[0mlen\u001b[0m\u001b[0;34m(\u001b[0m\u001b[0;36m1\u001b[0m\u001b[0;34m)\u001b[0m\u001b[0;34m\u001b[0m\u001b[0;34m\u001b[0m\u001b[0m\n\u001b[0m",
      "\u001b[0;31mTypeError\u001b[0m: object of type 'int' has no len()"
     ]
    }
   ],
   "source": [
    "len(1)"
   ]
  },
  {
   "cell_type": "markdown",
   "id": "02106f74-db42-4846-ac1a-36f3de5f4d1a",
   "metadata": {},
   "source": [
    "なんとなく想像できたかもしれませんが、整数型には長さという概念がないので `len` 関数はエラーになってしまいます。\n",
    "エラーメッセージの意味としては「整数型(`int`)は `len` という関数を持っていません」というエラーです。\n",
    "妙な言い回しに聞こえるかもしれませんが、型や関数の仕組みについて理解が進むと、この言い回しの意味が理解できるようになります。"
   ]
  }
 ],
 "metadata": {
  "kernelspec": {
   "display_name": "Python 3 (ipykernel)",
   "language": "python",
   "name": "python3"
  },
  "language_info": {
   "codemirror_mode": {
    "name": "ipython",
    "version": 3
   },
   "file_extension": ".py",
   "mimetype": "text/x-python",
   "name": "python",
   "nbconvert_exporter": "python",
   "pygments_lexer": "ipython3",
   "version": "3.10.12"
  }
 },
 "nbformat": 4,
 "nbformat_minor": 5
}
