{
 "cells": [
  {
   "cell_type": "markdown",
   "id": "6c6cb3c2-9ee9-477a-8d9a-dd36ec622921",
   "metadata": {},
   "source": [
    "# T-05: 型について\n",
    "\n",
    "前回は Python で Hello World という文字列の表示と、簡単な足し算を行いました。今回はもう少しプログラミングの世界に踏み込んでみましょう。"
   ]
  },
  {
   "cell_type": "markdown",
   "id": "b9752315-f6eb-470f-af57-12151d588bc1",
   "metadata": {},
   "source": [
    "## 型\n",
    "\n",
    "あなたはすでに２つの型を使った事があります。一つは \"Hello World\" という文字列で、もう一つは 1, 2, 3 といった整数です。実際問題 Python に関わらずほとんどのプログラミング言語においてこの２つの型は間違いなく使うでしょう。\n",
    "\n",
    "では、前回同様 Jupyter Notebook を起動して型について学びましょう。"
   ]
  },
  {
   "cell_type": "markdown",
   "id": "32568126-b1c1-41f4-b8ef-de8693afeeb5",
   "metadata": {},
   "source": [
    "## Jupyter Lab の起動\n",
    "\n",
    "Jupyter Lab の起動方法は既に解説しましたが、もう一度説明しておきます。以下のようにコマンドを入力し、 `http://localhost:` で始まるリンクを Ctrl を押しながらクリックして下さい。\n",
    "\n",
    "```\n",
    "$ cd ~/pytut\n",
    "$ jupyter notebook\n",
    "```\n",
    "\n",
    "NOTE: cd に続く文字列の `~` はホームディレクトリで、 `/` （スラッシュ）はディレクトリの区切りです。 `~/pytut` とは「ホームディレクトリの中の pytut ディレクトリ」を意味します。"
   ]
  },
  {
   "cell_type": "markdown",
   "id": "02106f74-db42-4846-ac1a-36f3de5f4d1a",
   "metadata": {},
   "source": [
    "## 整数型について\n",
    "\n",
    "整数型とは整数の性質を持つ型です。具体的には 1 や -2 といった小数点のない数値です。セル(`In [1]:` の後)に `3` と入力してください。\n",
    "\n",
    "```\n",
    "3\n",
    "```\n",
    "\n",
    "下のセルに実際に入力してみましょう。`3` とだけ入力して `Ctrl+Enter` を押してください。"
   ]
  },
  {
   "cell_type": "code",
   "execution_count": null,
   "id": "49802c64-d961-4def-8054-561731347f8c",
   "metadata": {},
   "outputs": [],
   "source": []
  },
  {
   "cell_type": "markdown",
   "id": "4d92676d-6f4c-4482-8df9-030c23472a17",
   "metadata": {},
   "source": [
    "`Ctrl+Enter` を押すと以下の様に表示されるはずです。\n",
    "\n",
    "```\n",
    "[1]: 3\n",
    "[1]: 3\n",
    "```\n",
    "\n",
    "これは `3` を評価（実行）してその結果を表示しています。プログラムは入力と評価と出力の連続で成り立ちます。入力(input)が `In` で出力(output)が `Out` です。\n",
    "\n",
    "ここでは 3 を入力してそのままの 3 を出力しているので、意味が無く妙な気がするかもしれません。下のセルに `1+2` と入力して実行してみましょう。\n",
    "\n",
    "```\n",
    "1+2\n",
    "```"
   ]
  },
  {
   "cell_type": "code",
   "execution_count": null,
   "id": "e68ab3aa-0419-402a-b0bf-a05c40dea738",
   "metadata": {},
   "outputs": [],
   "source": []
  },
  {
   "cell_type": "markdown",
   "id": "e8b1601f-64b4-41cb-b0e5-731a9cbcad8d",
   "metadata": {},
   "source": [
    "以下の様になりましたか？\n",
    "\n",
    "```\n",
    "[2]: 1+2\n",
    "[2]: 3\n",
    "```\n",
    "\n",
    "これは `1+2` を評価（計算）して `3` が出力された事を意味します。"
   ]
  },
  {
   "cell_type": "markdown",
   "id": "240698e1-8b23-437b-9e0c-c2cd6012c1af",
   "metadata": {},
   "source": [
    "## POINT\n",
    "\n",
    "数値型は数式のように計算する事ができる。"
   ]
  }
 ],
 "metadata": {
  "kernelspec": {
   "display_name": "Python 3 (ipykernel)",
   "language": "python",
   "name": "python3"
  },
  "language_info": {
   "codemirror_mode": {
    "name": "ipython",
    "version": 3
   },
   "file_extension": ".py",
   "mimetype": "text/x-python",
   "name": "python",
   "nbconvert_exporter": "python",
   "pygments_lexer": "ipython3",
   "version": "3.10.12"
  }
 },
 "nbformat": 4,
 "nbformat_minor": 5
}
