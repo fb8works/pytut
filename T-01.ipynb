{
 "cells": [
  {
   "cell_type": "markdown",
   "id": "7192da38-f36d-46a4-9455-9cae41d9414d",
   "metadata": {},
   "source": [
    "# T-01: Python を始めよう\n",
    "\n",
    "dataentry のシステム（バッチ処理プログラム群）は python というプログラミング言語で書かれています。ここでは Python をゼロから学ぶ事を軸に、最終的に実践的な例を示しつつ Python を学習します。なお、このチュートリアルは Windows 上で Ubuntu (22.04.3 LTS) がインストールされている事を前提とします。\n",
    "\n",
    "## 準備: Python のインストール\n",
    "\n",
    "まずは Ubuntu を起動しましょう。スタートメニューから `Ubuntu 22.04.3 LTS` を開いて下さい（22.04.3 はバージョン番号です。違っていても大体動くでしょう！）。\n",
    "Ubuntu のターミナル（黒い背景のウィンドウ）が表示されましたか？では Ubuntu のアップデートと Python と必要なツールのインストールを行いましょう。以下のようにコマンドを入力して実行してください。\n",
    "\n",
    "注意: `$` で始まる行の `$` 以降を入力してください。行頭の `$` は入力しないでください。 \n",
    "\n",
    "```bash\n",
    "$ sudo apt update\n",
    "$ sudo apt -y upgrade\n",
    "$ sudo apt -y python3 git\n",
    "$ git config --global core.autocrlf false\n",
    "$ git config --global core.autocrlf\n",
    "false\n",
    "```\n",
    "\n",
    "最後のコマンドの後に `false` と表示されるのを確認してください。\n",
    "\n",
    "これで準備が出来ました。\n",
    "\n",
    "## Hello world\n",
    "\n",
    "では早速 Python を実行してみましょう。\n",
    "\n",
    "```bash\n",
    "$ python\n",
    "Python 3.10.12 (main, Jul 29 2024, 16:56:48) [GCC 11.4.0] on linux\n",
    "Type \"help\", \"copyright\", \"credits\" or \"license\" for more information.\n",
    ">>>\n",
    "```\n",
    "\n",
    "Python のバージョンや説明と共に最下行に Python のプロンプトが表示されました。\n",
    "Python のプロンプトは `>>>` です。ではプロンプトに次のように入力してください。プロンプト（`>>>`）の後ろの文字列だけを入力してくださいね！\n",
    "\n",
    "```python\n",
    ">>> print(\"Hello world\")\n",
    "Hello world\n",
    "```\n",
    "\n",
    "`Hello world` と表示されましたか？おめでとうございます。初めての Python プログラミングへようこそ。\n",
    "\n",
    "終了するには `quit()` と入力するか `Ctrl+D` を入力します。\n",
    "\n",
    "```python\n",
    ">>> quit()\n",
    "```\n",
    "\n",
    "これで「Python に触ったことがある」と言えますね！（笑）"
   ]
  }
 ],
 "metadata": {
  "kernelspec": {
   "display_name": "Python 3 (ipykernel)",
   "language": "python",
   "name": "python3"
  },
  "language_info": {
   "codemirror_mode": {
    "name": "ipython",
    "version": 3
   },
   "file_extension": ".py",
   "mimetype": "text/x-python",
   "name": "python",
   "nbconvert_exporter": "python",
   "pygments_lexer": "ipython3",
   "version": "3.10.12"
  }
 },
 "nbformat": 4,
 "nbformat_minor": 5
}
