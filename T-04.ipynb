{
 "cells": [
  {
   "cell_type": "markdown",
   "id": "6c6cb3c2-9ee9-477a-8d9a-dd36ec622921",
   "metadata": {},
   "source": [
    "# T-04: Hello World\n",
    "\n",
    "前回は Jupyter Lab を起動してメニューを日本語に変更しました。準備は万端です。実際に Jupyter Lab を使いましょう！"
   ]
  },
  {
   "cell_type": "markdown",
   "id": "b9752315-f6eb-470f-af57-12151d588bc1",
   "metadata": {},
   "source": [
    "## ノートブックを開く\n",
    "\n",
    "早速ページを開きましょう。今まではブラウザ上でこのドキュメントを見ていたと思いますが、ここからは Jupyter Lab を使ってこのドキュメントを開きましょう。左側のファイルブラウザから `TUTORIAL-04.ipynb` をダブルクリックして下さい。このドキュメントが Jupyter Lab で開くことができます。"
   ]
  },
  {
   "cell_type": "markdown",
   "id": "32568126-b1c1-41f4-b8ef-de8693afeeb5",
   "metadata": {},
   "source": [
    "## Hello World\n",
    "\n",
    "Jupyter Lab でこのドキュメントを開けましたか？この下に `print(\"Hello, world\")` と表示された行が見えますか？クリックしてみてください。左側に青い縦棒が表示されて、文字が入力可能であることを示す、点滅するカーソルが表示されます。この状態で画面上部の実行ボタン（ `▶️` ）を押してください。"
   ]
  },
  {
   "cell_type": "code",
   "execution_count": null,
   "id": "3b2e142a-b2d5-47ce-86ed-c543e63cd636",
   "metadata": {},
   "outputs": [],
   "source": [
    "print(\"Hello, world\")"
   ]
  },
  {
   "cell_type": "markdown",
   "id": "02106f74-db42-4846-ac1a-36f3de5f4d1a",
   "metadata": {},
   "source": [
    "## セル\n",
    "\n",
    "上記の `print(\"Hello, world\")` と書かれた枠をセル (cell = １つのマス目) と呼びます。この文章も一つのセルです。セルには種類があって、このセルと上のセルを交互にクリックすると上部のツールバーが `Markdown` と `コード` に切り替わることを確認できます。`コード` は Python のコード（プログラム）を表します。`Code` セルで実行ボタンを押すとセルの内容が評価されて結果が表示される仕組みです。\n",
    "\n",
    "セルは自由に追加する事ができます。この文章が表示されているセルをクリックすると、この文章の左側に青いバーが表示され、このセルが選択された事が分かります。次にセルの追加ボタン (`+`) を押すとこのセルの下に新たなセルが追加されます。\n",
    "\n",
    "試しに追加してみましょう。空のセルが挿入されましたか？\n",
    "\n",
    "では、空のセルに `prnt(\"こんにちは\")` と入力して実行してみましょう。「こんにちは」と表示されましたか？うーん、それはつまらないですねぇ。"
   ]
  },
  {
   "cell_type": "markdown",
   "id": "cc1c5b38-1d19-43dd-8ff5-e13dded42173",
   "metadata": {},
   "source": [
    "## エラー\n",
    "\n",
    "さて、赤い文字が表示されたらあなたは正直者です。ここではあえて `print` を `prnt` のように間違えてエラーが発生する事を期待しました。 `name 'prnt' is not defined` とは「 `prnt` なんて名前（の関数は）定義されていないよ」というエラーメッセージです。このように綴りや書き方を間違うと Python がエラーを出力します。その場合は確認して修正しましょう。\n",
    "\n",
    "```\n",
    "---------------------------------------------------------------------------\n",
    "NameError                                 Traceback (most recent call last)\n",
    "/tmp/ipykernel_278028/2093449646.py in <module>\n",
    "----> 1 prnt(\"こんにちは\")\n",
    "\n",
    "NameError: name 'prnt' is not defined\n",
    "```\n",
    "\n",
    "では `prnt` を `print` に修正して実行してみましょう。"
   ]
  },
  {
   "cell_type": "markdown",
   "id": "806b65ef-c804-435d-8c65-1ee96bd250bf",
   "metadata": {},
   "source": [
    "## ノートブックの保存\n",
    "\n",
    "ノートブックの良いところの一つは簡単に保存と復元ができるところです。 `File` メニューの `Save Notebook (Ctrl+S)` をクリックして保存しましょう。これで次回開いたときに最後の状態を呼び戻せます。"
   ]
  },
  {
   "cell_type": "markdown",
   "id": "f0cff02d-5980-4770-821c-25d0b270f47b",
   "metadata": {},
   "source": [
    "## TIPS: ショートカット\n",
    "\n",
    "`Run` メニューをクリックすると `Run Selected Cell (Shift+Enter)` というメニューがあります。右側に `Shift+Enter` のように書かれていますね。これはショートカットキーといって、よく使うメニュー項目や機能を簡単に呼び出す為の、キーの組み合わせの事です。左からすべてのキーを押したままにして、最後のキーを押すと、ショートカットキーが発動します。\n",
    "\n",
    "下のセルで試してみましょう。`Ctrl` キーを押しながら `Enter` キーを押してみて下さい。"
   ]
  },
  {
   "cell_type": "code",
   "execution_count": null,
   "id": "e68ab3aa-0419-402a-b0bf-a05c40dea738",
   "metadata": {},
   "outputs": [],
   "source": [
    "1+1"
   ]
  }
 ],
 "metadata": {
  "kernelspec": {
   "display_name": "Python 3 (ipykernel)",
   "language": "python",
   "name": "python3"
  },
  "language_info": {
   "codemirror_mode": {
    "name": "ipython",
    "version": 3
   },
   "file_extension": ".py",
   "mimetype": "text/x-python",
   "name": "python",
   "nbconvert_exporter": "python",
   "pygments_lexer": "ipython3",
   "version": "3.10.12"
  }
 },
 "nbformat": 4,
 "nbformat_minor": 5
}
