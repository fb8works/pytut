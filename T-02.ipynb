{
 "cells": [
  {
   "cell_type": "markdown",
   "id": "68b082e9-b710-473b-9073-edc1f91b190a",
   "metadata": {},
   "source": [
    "# T-02: Jupyter Lab のインストールと準備\n",
    "\n",
    "前回は Python で初めてのプログラムを実行しました。そのまま `>>>` という味気ないプロンプトで勉強を続けてもよいのですが、より学習しやすいツール（道具）がありますので紹介したいと思います。Jupyter Notebook または Jupyter Lab という Python をノートのように使えるツールです。どちらも基本的な機能は同じですが、ここではより高機能な Jupyter Lab を使います。以下の様にコマンドを実行してください。\n",
    "\n",
    "```bash\n",
    "$ pip install jupyterlab jupyterlab-language-pack-ja-JP\n",
    "```\n",
    "\n",
    "これで Jupyter Lab を使う準備はできました。実行する前に、このプロジェクトをローカル（あなたの PC) に持ってきましょう。\n",
    "\n",
    "## プロジェクトのクローン\n",
    "\n",
    "Jupyter Lab を起動する前に本プロジェクトのファイル一式を、あなたのパソコンにコピーしましょう。\n",
    "\n",
    "まずホームディレクトリに移動します。ホームディレクトリとは自分の名前の付いたディレクトリで自分の自由に使うことができる場所です。\n",
    "\n",
    "`cd` コマンドの後に何も入力せずに実行するとホームディレクトリに移動します。\n",
    "\n",
    "```bash\n",
    "$ cd\n",
    "```\n",
    "\n",
    "次に本プロジェクト (pytut) を git というコマンドを使ってクローン（複製）します。今は git については詳しく触れませんが、git で管理された本プロジェクトの場所 (URL) からプロジェクトを一式ダウンロードして現在のホームディレクトリに展開する事だと理解してもらって構いません。\n",
    "\n",
    "```bash\n",
    "$ git clone https://github.com/fb8works/pytut.git\n",
    "```\n",
    "\n",
    "`ls` というコマンドを入力すると、現在のディレクトリのファイルやディレクトリの一覧を表示できます。試してみましょう。\n",
    "\n",
    "```bash\n",
    "$ ls\n",
    "pytut\n",
    "```\n",
    "\n",
    "pytut 以外にも表示されるかもしれませんが、pytut というディレクトリが一覧に含まれる事を確認してください。\n"
   ]
  }
 ],
 "metadata": {
  "kernelspec": {
   "display_name": "Python 3 (ipykernel)",
   "language": "python",
   "name": "python3"
  },
  "language_info": {
   "codemirror_mode": {
    "name": "ipython",
    "version": 3
   },
   "file_extension": ".py",
   "mimetype": "text/x-python",
   "name": "python",
   "nbconvert_exporter": "python",
   "pygments_lexer": "ipython3",
   "version": "3.10.12"
  }
 },
 "nbformat": 4,
 "nbformat_minor": 5
}
