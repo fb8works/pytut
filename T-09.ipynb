{
 "cells": [
  {
   "cell_type": "markdown",
   "id": "67488453-3544-428a-bc8c-a1f06ccd9110",
   "metadata": {},
   "source": [
    "# T-09: 変数\n",
    "\n",
    "前回までに基本的な型と関数について学びました。今回はもう一つプログラミングにおいて大事な要素である\n",
    "「変数」について学びましょう。\n",
    "\n",
    "変数は値を持つ事ができます。変数は名前の付いた値の入れ物のようなものだと思ってください。\n",
    "\n",
    "では早速初めての変数 `a` に `1` を入れてみましょう。"
   ]
  },
  {
   "cell_type": "code",
   "execution_count": 6,
   "id": "1692c1f3-6611-4101-ad5c-763e0e196769",
   "metadata": {},
   "outputs": [],
   "source": [
    "a = 1"
   ]
  },
  {
   "cell_type": "markdown",
   "id": "f834cdeb-7531-42fa-a8e9-ed2445e411f7",
   "metadata": {},
   "source": [
    "何も起こらないように見えますが。これで `a` という名前の箱の中身は `1` になりました。\n",
    "`a` の中身を表示するには単に `a` を評価すれば調べることができます。"
   ]
  },
  {
   "cell_type": "code",
   "execution_count": null,
   "id": "74de5f36-167c-41cb-8658-e2d43805db46",
   "metadata": {},
   "outputs": [],
   "source": [
    "a"
   ]
  },
  {
   "cell_type": "markdown",
   "id": "77055423-96d2-4428-a94c-16ccbe4a4a1c",
   "metadata": {},
   "source": [
    "`1` が出力されましたか？ `a` という変数は値と同じように計算する事ができます。\n",
    "\n",
    "試してみましょう。"
   ]
  },
  {
   "cell_type": "code",
   "execution_count": null,
   "id": "6ead84df-b253-42d1-aa50-fdf80b3effa6",
   "metadata": {},
   "outputs": [],
   "source": [
    "a + a"
   ]
  },
  {
   "cell_type": "markdown",
   "id": "54b28b24-f332-4fee-8db9-171d6e5f448c",
   "metadata": {},
   "source": [
    "`2` が出力されましたか？ `1 + 1` は `2` ですから正解ですね。ところで Python が計算を\n",
    "間違うことはあるのでしょうか？いいえ、コンピューターが故障しない限りたとえ地球上の全部の\n",
    "砂粒と同じ回数やっても一度も間違えることは無いでしょう。それがコンピューターの性質の１つです。\n",
    "実際にはコンピューターが壊れかけてしまうとあり得ますが、そのような場合は計算結果だけではなく\n",
    "コンピューターが動作できなくなってしまいます。\n",
    "\n",
    "Python:「私、絶対にミスしませんから！」"
   ]
  },
  {
   "cell_type": "markdown",
   "id": "b506462b-9bfe-4bf9-9a76-00d711e1753f",
   "metadata": {},
   "source": [
    "ところで `b` という名前の変数を代入する前に評価するとどうなるでしょうか？\n",
    "\n",
    "試してみましょう。"
   ]
  },
  {
   "cell_type": "code",
   "execution_count": null,
   "id": "8198d4d6-28de-45bf-9c97-de4cc17794af",
   "metadata": {
    "scrolled": true
   },
   "outputs": [],
   "source": [
    "b"
   ]
  },
  {
   "cell_type": "markdown",
   "id": "b050aa4f-8176-4101-9d0d-62809b86c451",
   "metadata": {},
   "source": [
    "エラーになってしまいました。「`b` という名前の変数は定義されていません」という内容のエラーです。\n",
    "通常変数は値が代入されたときに作られます。ここでは `b` の中身を表示しようとしましたが `b` という\n",
    "名前の変数が存在しないのでエラーになった訳です。\n",
    "\n",
    "`b` という名前の変数も作りましょう。"
   ]
  },
  {
   "cell_type": "code",
   "execution_count": 19,
   "id": "0940cbe6-67d1-4030-901f-0e12ed64a203",
   "metadata": {},
   "outputs": [],
   "source": [
    "b = 2"
   ]
  },
  {
   "cell_type": "markdown",
   "id": "32974063-bd08-4b6d-a8e0-972d5fcb3da4",
   "metadata": {},
   "source": [
    "今まで触れてませんでしたが、複数の行を書くと一度に実行して最後の結果を表示してくれます。\n",
    "実行して試してみましょう。"
   ]
  },
  {
   "cell_type": "code",
   "execution_count": null,
   "id": "ed84e327-4a68-4251-9e98-35a3eaf05683",
   "metadata": {},
   "outputs": [],
   "source": [
    "b = 2\n",
    "b"
   ]
  },
  {
   "cell_type": "markdown",
   "id": "44ae9279-6b28-488e-97f4-16c801057e0e",
   "metadata": {},
   "source": [
    "現在 `a` と `b` の２つの変数が定義されています。計算してみましょう。"
   ]
  },
  {
   "cell_type": "code",
   "execution_count": null,
   "id": "49f49c5d-9acd-4adb-9445-f18745d0cd23",
   "metadata": {},
   "outputs": [],
   "source": [
    "a + b"
   ]
  },
  {
   "cell_type": "markdown",
   "id": "6331abc4-c37b-4088-b042-5f9a0aacdf82",
   "metadata": {},
   "source": [
    "`3` になりましたね。 `a + b` は `1 + 2` ですから答えは `3` です。"
   ]
  },
  {
   "cell_type": "markdown",
   "id": "30a8b0a8-6a57-462d-9bf3-674b71402571",
   "metadata": {},
   "source": [
    "さて、問題です。以下のセルを実行すると何が表示されますか？\n",
    "\n",
    "考えてから実行しましょう！"
   ]
  },
  {
   "cell_type": "code",
   "execution_count": null,
   "id": "48786d4a-da23-438e-b629-fc03746af6a7",
   "metadata": {},
   "outputs": [],
   "source": [
    "a = 5\n",
    "b = 7\n",
    "c = a + b\n",
    "c"
   ]
  },
  {
   "cell_type": "markdown",
   "id": "1c49db1c-222c-4329-924d-82391abb3af0",
   "metadata": {},
   "source": [
    "答えは書きません（実行すればそれが答えです）。\n",
    "\n",
    "シンプルですが変数について学びました。変数は名前のついた箱、もう少し正確に言うとラベル（名前）のついた値です。"
   ]
  },
  {
   "cell_type": "markdown",
   "id": "9dc446d6-46e4-47ac-b08f-85abb09811ae",
   "metadata": {},
   "source": [
    "# POINT\n",
    "\n",
    "- 変数は名前のついた「値」\n",
    "- 変数名に使える文字は先頭は、アルファベットまたは `_` （アンダースコア）で始まり、先頭以降は数字も使えます。"
   ]
  }
 ],
 "metadata": {
  "kernelspec": {
   "display_name": "Python 3 (ipykernel)",
   "language": "python",
   "name": "python3"
  },
  "language_info": {
   "codemirror_mode": {
    "name": "ipython",
    "version": 3
   },
   "file_extension": ".py",
   "mimetype": "text/x-python",
   "name": "python",
   "nbconvert_exporter": "python",
   "pygments_lexer": "ipython3",
   "version": "3.10.12"
  }
 },
 "nbformat": 4,
 "nbformat_minor": 5
}
