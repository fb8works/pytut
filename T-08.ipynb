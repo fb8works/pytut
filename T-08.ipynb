{
 "cells": [
  {
   "cell_type": "markdown",
   "id": "6c6cb3c2-9ee9-477a-8d9a-dd36ec622921",
   "metadata": {},
   "source": [
    "# T-08 型を調べてみよう\n",
    "\n",
    "前回は関数について学びました。`type` 関数を使うとオブジェクト（値）の「型」を調べることができます。\n",
    "\n",
    "実際に試してみましょう。"
   ]
  },
  {
   "cell_type": "code",
   "execution_count": null,
   "id": "ba92bfc9-3216-4477-a43f-9cde8b7b56a8",
   "metadata": {},
   "outputs": [],
   "source": [
    "type(123)"
   ]
  },
  {
   "cell_type": "code",
   "execution_count": null,
   "id": "e10c30d7-00d7-4eb5-b4c5-359e2421600e",
   "metadata": {},
   "outputs": [],
   "source": [
    "type(\"abc\")"
   ]
  },
  {
   "cell_type": "markdown",
   "id": "4a09fc8b-7e52-400b-b47b-4f28c049cdda",
   "metadata": {},
   "source": [
    "整数が `int` で文字列は `str` であるようです。\n",
    "\n",
    "ところで、ちょっと混乱させてしまうかもしれませんが `str` や `int` といった型にも型があるのでしょうか？実は `int` や `str` という型もオブジェクト（値）です。という事は `type` 関数でその型を調べることができるのでしょうか。\n",
    "\n",
    "試してみましょう。"
   ]
  },
  {
   "cell_type": "code",
   "execution_count": null,
   "id": "f84cc0b0-aebd-445f-a974-0d085e85b723",
   "metadata": {},
   "outputs": [],
   "source": [
    "type(int)"
   ]
  },
  {
   "cell_type": "markdown",
   "id": "85d49fb0-3531-4ced-ac2b-85b8578ed569",
   "metadata": {},
   "source": [
    "どうやら `int` という型の型は `type` という型である様です。型にも型があるんですね。でも、何処までも型があるわけではないので安心してください。しかし、すべてに型があるというのは本当の事のようです。\n",
    "\n",
    "では、さらに `type` にも型があるのでしょうか？"
   ]
  },
  {
   "cell_type": "code",
   "execution_count": 3,
   "id": "56858395-8579-43d4-9ff0-0cbe8e63a0d8",
   "metadata": {
    "scrolled": true
   },
   "outputs": [
    {
     "data": {
      "text/plain": [
       "type"
      ]
     },
     "execution_count": 3,
     "metadata": {},
     "output_type": "execute_result"
    }
   ],
   "source": [
    "type(type)"
   ]
  },
  {
   "cell_type": "code",
   "execution_count": 4,
   "id": "8eebcd00-9bd0-4aeb-9630-d78036af93fe",
   "metadata": {},
   "outputs": [
    {
     "data": {
      "text/plain": [
       "type"
      ]
     },
     "execution_count": 4,
     "metadata": {},
     "output_type": "execute_result"
    }
   ],
   "source": [
    "type(type(type))"
   ]
  },
  {
   "cell_type": "markdown",
   "id": "32568126-b1c1-41f4-b8ef-de8693afeeb5",
   "metadata": {},
   "source": [
    "うーん？ちょっと不思議ですか？\n",
    "\n",
    "`int` や `str` は型ですが、その型である `type` は「型の型」であると同時にそれ自身も「型」なので、`type` のタイプ（型）は `type`（自分自身）なんです。`type` はちょっと哲学的ですね。\n",
    "\n",
    "ちょっと話が逸れてしまいました。最後にもう一つだけ調べてみましょう。"
   ]
  },
  {
   "cell_type": "code",
   "execution_count": 7,
   "id": "49802c64-d961-4def-8054-561731347f8c",
   "metadata": {},
   "outputs": [
    {
     "data": {
      "text/plain": [
       "builtin_function_or_method"
      ]
     },
     "execution_count": 7,
     "metadata": {},
     "output_type": "execute_result"
    }
   ],
   "source": [
    "type(print)"
   ]
  },
  {
   "cell_type": "markdown",
   "id": "0a78f0ca-b892-4636-b302-f9805af10a34",
   "metadata": {},
   "source": [
    "関数は通常 `function` という型ですが、Python が最初から持っている関数は\n",
    "`builtin_function_or_method` という型になります。\n",
    "\n",
    "ん？ `type` って関数みたいに呼び出したけど、なんで関数じゃないの？そう思ったあなたはかなり観察眼がある様です。ここではあまり触れませんが、関数の様に呼び出せる性質を持った型だからです。\n",
    "\n",
    "さて、型を調べるのはこれぐらいにしておきましょう。すべてに型があるという事を実感してもらえば問題ありません。"
   ]
  },
  {
   "cell_type": "markdown",
   "id": "a24bf412-fffc-4d38-8704-beb62e1a4bd2",
   "metadata": {},
   "source": [
    "## POINT\n",
    "\n",
    "- すべてのオブジェクトに型がある。\n",
    "- 型は調べることができる。\n",
    "\n",
    "そして実は type() で返される型もオブジェクトという事が判ると満点ですが、今のところはなんとなくで問題ありません。型の概念は少し難しいのです。"
   ]
  }
 ],
 "metadata": {
  "kernelspec": {
   "display_name": "Python 3 (ipykernel)",
   "language": "python",
   "name": "python3"
  },
  "language_info": {
   "codemirror_mode": {
    "name": "ipython",
    "version": 3
   },
   "file_extension": ".py",
   "mimetype": "text/x-python",
   "name": "python",
   "nbconvert_exporter": "python",
   "pygments_lexer": "ipython3",
   "version": "3.10.12"
  }
 },
 "nbformat": 4,
 "nbformat_minor": 5
}
