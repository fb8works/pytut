{
 "cells": [
  {
   "cell_type": "markdown",
   "id": "6c6cb3c2-9ee9-477a-8d9a-dd36ec622921",
   "metadata": {},
   "source": [
    "# T-06: 文字列型\n",
    "\n",
    "文字列型とは文字列の性質を持つ型です。具体的には `Hello` や `こんにちは` といったテキストの事です。実際に文字列を入力して評価してみましょう。文字列は `\"` や `'` でクォートする必要があります。\n",
    "\n",
    "```\n",
    "\"Hello, world\"\n",
    "```\n",
    "\n",
    "下のセルに入力して評価してみてください。"
   ]
  },
  {
   "cell_type": "code",
   "execution_count": null,
   "id": "ba92bfc9-3216-4477-a43f-9cde8b7b56a8",
   "metadata": {},
   "outputs": [],
   "source": []
  },
  {
   "cell_type": "markdown",
   "id": "b9752315-f6eb-470f-af57-12151d588bc1",
   "metadata": {},
   "source": [
    "以下の様な結果になりましたか？\n",
    "\n",
    "```\n",
    "[1]: \"Hello, world\"\n",
    "[1]: 'Hello, world'\n",
    "```\n",
    "\n",
    "ダブルクォート (`\"`) とシングルクォート (`'`) の違いはありますが、全く同じ文字列が返ってきますね。全然面白くないですね。特に変化させていないので、入力がそのまま出力されているとイメージしてください。\n",
    "\n",
    "```\n",
    "[入力] --> [評価（何もしない）] --> [出力]\n",
    "```"
   ]
  },
  {
   "cell_type": "markdown",
   "id": "85d49fb0-3531-4ced-ac2b-85b8578ed569",
   "metadata": {},
   "source": [
    "では少し変化を感じましょう。文字列は足す（結合する）事ができます。\n",
    "\n",
    "```\n",
    "\"Hello, \" + \"world\"\n",
    "```\n",
    "\n",
    "下のセルに入力して評価してみましょう。"
   ]
  },
  {
   "cell_type": "code",
   "execution_count": null,
   "id": "56858395-8579-43d4-9ff0-0cbe8e63a0d8",
   "metadata": {},
   "outputs": [],
   "source": []
  },
  {
   "cell_type": "markdown",
   "id": "32568126-b1c1-41f4-b8ef-de8693afeeb5",
   "metadata": {},
   "source": [
    "以下のような結果が得られたはずです。\n",
    "\n",
    "```\n",
    "In [4]: \"Hello, \" + \"world\"\n",
    "Out[4]: 'Hello, world\"\n",
    "```\n",
    "\n",
    "`+` 演算子によって \"Hello, \" と \"world\" という２つの文字列が結合されて１つの \"Hello, world\" という文字列を作られた事が判ります。"
   ]
  },
  {
   "cell_type": "markdown",
   "id": "02106f74-db42-4846-ac1a-36f3de5f4d1a",
   "metadata": {},
   "source": [
    "\"1\" や \"2\" の様にクォートで囲まれていれば文字列です。見た目が数式の様でも文字列の結合になります。\n",
    "\n",
    "```\n",
    "\"1\" + \"2\"\n",
    "```\n",
    "\n",
    "下のセルで試してみましょう。"
   ]
  },
  {
   "cell_type": "code",
   "execution_count": null,
   "id": "49802c64-d961-4def-8054-561731347f8c",
   "metadata": {},
   "outputs": [],
   "source": []
  },
  {
   "cell_type": "markdown",
   "id": "4d92676d-6f4c-4482-8df9-030c23472a17",
   "metadata": {},
   "source": [
    "```\n",
    "In [5]: \"1\" + \"2\"\n",
    "Out[5]: '12'\n",
    "```\n",
    "\n",
    "3 にはならず 12 になりました。これは先ほどの例と同じで \"1\" と \"2\" が文字列なので文字列の結合が行われた結果です。\n",
    "型に応じて `+` の挙動が決定されます。"
   ]
  },
  {
   "cell_type": "code",
   "execution_count": null,
   "id": "e68ab3aa-0419-402a-b0bf-a05c40dea738",
   "metadata": {},
   "outputs": [],
   "source": []
  },
  {
   "cell_type": "markdown",
   "id": "e8b1601f-64b4-41cb-b0e5-731a9cbcad8d",
   "metadata": {},
   "source": [
    "ところで、引いたらどうなるか気になりませんか？\n",
    "\n",
    "```\n",
    "\"aaa\" - \"a\"\n",
    "```\n",
    "\n",
    "下のセルで試してみましょう。"
   ]
  },
  {
   "cell_type": "code",
   "execution_count": null,
   "id": "1075ee16-ec6d-4fd9-8c2b-7fcf07ccb52b",
   "metadata": {},
   "outputs": [],
   "source": []
  },
  {
   "cell_type": "markdown",
   "id": "4d685c96-5224-4847-aa66-52fa66876538",
   "metadata": {},
   "source": [
    "\"aa\" になってほしい気はしますが、セルが赤くなってエラーが発生してしまいますね。\n",
    "\n",
    "```python\n",
    "---------------------------------------------------------------------------\n",
    "TypeError                                 Traceback (most recent call last)\n",
    "/tmp/ipykernel_279703/2046619882.py in <module>\n",
    "----> 1 \"aaa\" - \"a\"\n",
    "\n",
    "TypeError: unsupported operand type(s) for -: 'str' and 'str'\n",
    "```\n",
    "\n",
    "このエラーの意味は「文字列と文字列で引き算（`-`）はできないよ」という内容のメッセージです。\n",
    "\n",
    "文字列には文字列にしか出来ない操作（計算、演算）があり、整数には整数にしか出来ない操作があります。"
   ]
  },
  {
   "cell_type": "markdown",
   "id": "240698e1-8b23-437b-9e0c-c2cd6012c1af",
   "metadata": {},
   "source": [
    "## POINT\n",
    "\n",
    "型によって可能な操作や振る舞いが変わる。"
   ]
  }
 ],
 "metadata": {
  "kernelspec": {
   "display_name": "Python 3 (ipykernel)",
   "language": "python",
   "name": "python3"
  },
  "language_info": {
   "codemirror_mode": {
    "name": "ipython",
    "version": 3
   },
   "file_extension": ".py",
   "mimetype": "text/x-python",
   "name": "python",
   "nbconvert_exporter": "python",
   "pygments_lexer": "ipython3",
   "version": "3.10.12"
  }
 },
 "nbformat": 4,
 "nbformat_minor": 5
}
