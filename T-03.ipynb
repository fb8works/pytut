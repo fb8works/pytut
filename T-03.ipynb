{
 "cells": [
  {
   "cell_type": "markdown",
   "id": "68b082e9-b710-473b-9073-edc1f91b190a",
   "metadata": {},
   "source": [
    "# T-03: Jupyter Lab の起動\n",
    "\n",
    "ではプロジェクトの中に入りましょう。 `cd` に続けて `pytut` と入力すると pytut ディレクトリに入ります。ホームディレクトリという大きな箱の中の pytut という箱の中に入るとイメージしてください。\n",
    "\n",
    "```bash\n",
    "$ cd pytut\n",
    "```\n",
    "\n",
    "カレント（現在）ディレクトリが pytut になります。プロンプトの末尾が `~/pytut` となっている事を確認しましょう（`~` はホームディレクトリを意味します）。\n",
    "\n",
    "```\n",
    "daisuke@z6b(Ubuntu-22.04):~/pytut\n",
    "$\n",
    "```\n",
    "\n",
    "Jupyter Lab は jupyter-lab というコマンドで起動する事ができます。では、起動してみましょう。\n",
    "\n",
    "```bash\n",
    "$ jupyter-lab\n",
    "```\n",
    "\n",
    "起動するとターミナルに以下の様にブラウザで開くためのリンクが表示されます。リンクは Ctrl を押しながらクリックするとブラウザで開くことができます。では、あなたのターミナルに表示されている `http://localhost:` で始まるリンクを Ctrl を押しながらクリックして下さい。\n",
    "\n",
    "```\n",
    "http://localhost:8888/?token=0ebf9a2635e9791149753b3b69c0cdfb5c3d10f25abb4962\n",
    "```\n",
    "\n",
    "## ようこそ Jupyter Lab へ\n",
    "\n",
    "ブラウザが開くと、起動したディレクトリのファイルやディレクトリの一覧が表示されます。README.md や hello_world.ipynb 等が表示されているはずです。Jupyter Lab を起動したディレクトリを基点としてファイルの一覧が表示されます。ここでは `cd pytut` として `~/pytut` ディレクトリの中身が表示されているという訳です。\n",
    "\n",
    "## 最初にする事（日本語化）\n",
    "\n",
    "まず最初にすることはメニューの日本語化です。 `Settings` をクリックして `Language` をポイントして `Japanese (Japan) - 日本語 (日本)` をクリックしてください。メニューが日本語化されます（`File` メニューが `ファイル` になっているはずです）。"
   ]
  }
 ],
 "metadata": {
  "kernelspec": {
   "display_name": "Python 3 (ipykernel)",
   "language": "python",
   "name": "python3"
  },
  "language_info": {
   "codemirror_mode": {
    "name": "ipython",
    "version": 3
   },
   "file_extension": ".py",
   "mimetype": "text/x-python",
   "name": "python",
   "nbconvert_exporter": "python",
   "pygments_lexer": "ipython3",
   "version": "3.10.12"
  }
 },
 "nbformat": 4,
 "nbformat_minor": 5
}
